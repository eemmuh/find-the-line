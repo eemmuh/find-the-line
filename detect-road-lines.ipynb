{
 "cells": [
  {
   "cell_type": "code",
   "execution_count": 1,
   "id": "977f45d0-8f25-4d8f-ae61-79f050d3f8a4",
   "metadata": {},
   "outputs": [],
   "source": [
    "import cv2\n",
    "import numpy as np"
   ]
  },
  {
   "cell_type": "code",
   "execution_count": 2,
   "id": "53e72999-b40e-4c9d-9c78-b1a040af6a31",
   "metadata": {},
   "outputs": [],
   "source": [
    "def preprocess_image(image):\n",
    "    gray = cv2.cvtColor(image, cv2.COLOR_BGR2GRAY)\n",
    "    blurred = cv2.bilateralFilter(gray, d=9, sigmaColor=75, sigmaSpace=75)\n",
    "    return blurred"
   ]
  },
  {
   "cell_type": "code",
   "execution_count": 3,
   "id": "48755420-96d8-4403-9619-54687499fd60",
   "metadata": {},
   "outputs": [],
   "source": [
    "def detect_edges(image):\n",
    "    edges = cv2.Canny(image, 50, 200)\n",
    "    return edges"
   ]
  },
  {
   "cell_type": "code",
   "execution_count": 4,
   "id": "d8cd7aae-73d0-4c8b-954b-78ec0d50e53b",
   "metadata": {},
   "outputs": [],
   "source": [
    "def region_of_interest(image):\n",
    "    height, width = image.shape\n",
    "    mask = np.zeros_like(image)\n",
    "    polygon = np.array([[\n",
    "        (100, height),\n",
    "        (width - 100, height),\n",
    "        (width // 2, height // 2)\n",
    "    ]], np.int32)\n",
    "    cv2.fillPoly(mask, polygon, 255)\n",
    "    masked_image = cv2.bitwise_and(image, mask)\n",
    "    return masked_image"
   ]
  },
  {
   "cell_type": "code",
   "execution_count": 5,
   "id": "cdaba97c-d23c-4328-a1c1-dc5b5e36db64",
   "metadata": {},
   "outputs": [],
   "source": [
    "def detect_lines(image):\n",
    "    lines = cv2.HoughLinesP(image, 1, np.pi / 180, 100, minLineLength=50, maxLineGap=50)\n",
    "    return lines"
   ]
  },
  {
   "cell_type": "code",
   "execution_count": 6,
   "id": "5d3a6819-aa19-45df-b91c-d99e51dabb80",
   "metadata": {},
   "outputs": [],
   "source": [
    "def draw_lines(image, lines):\n",
    "    line_image = np.zeros_like(image)\n",
    "    if lines is not None:\n",
    "        for line in lines:\n",
    "            for x1, y1, x2, y2 in line:\n",
    "                cv2.line(line_image, (x1, y1), (x2, y2), (0, 255, 0), 5)\n",
    "    combined_image = cv2.addWeighted(image, 0.8, line_image, 1, 0)\n",
    "    return combined_image"
   ]
  },
  {
   "cell_type": "code",
   "execution_count": null,
   "id": "4d642f12-374a-47c1-9ac9-47b735de878c",
   "metadata": {},
   "outputs": [],
   "source": [
    "def main():\n",
    "    # Load the image\n",
    "    image = cv2.imread('/users/emma/Desktop/road_image.jpg')\n",
    "    if image is None:\n",
    "        print(\"Error: Image not found.\")\n",
    "        return\n",
    "    \n",
    "    # Preprocess the image\n",
    "    preprocessed_image = preprocess_image(image)\n",
    "    \n",
    "    # Detect edges\n",
    "    edges = detect_edges(preprocessed_image)\n",
    "    \n",
    "    # Define region of interest\n",
    "    roi = region_of_interest(edges)\n",
    "    \n",
    "    # Detect lines\n",
    "    lines = detect_lines(roi)\n",
    "    \n",
    "    # Draw lines on the original image\n",
    "    result_image = draw_lines(image, lines)\n",
    "    \n",
    "    # Display the result\n",
    "    cv2.imshow('Lane Lines', result_image)\n",
    "    cv2.waitKey(0)\n",
    "    cv2.destroyAllWindows()\n",
    "\n",
    "if __name__ == \"__main__\":\n",
    "    main()"
   ]
  },
  {
   "cell_type": "code",
   "execution_count": null,
   "id": "c352be20-3d9b-4117-aa8b-a9bd85c94b64",
   "metadata": {},
   "outputs": [],
   "source": []
  }
 ],
 "metadata": {
  "kernelspec": {
   "display_name": "Python 3 (ipykernel)",
   "language": "python",
   "name": "python3"
  },
  "language_info": {
   "codemirror_mode": {
    "name": "ipython",
    "version": 3
   },
   "file_extension": ".py",
   "mimetype": "text/x-python",
   "name": "python",
   "nbconvert_exporter": "python",
   "pygments_lexer": "ipython3",
   "version": "3.8.18"
  }
 },
 "nbformat": 4,
 "nbformat_minor": 5
}
